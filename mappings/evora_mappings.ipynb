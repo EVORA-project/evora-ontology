{
 "cells": [
  {
   "cell_type": "code",
   "execution_count": null,
   "id": "6e3ee627",
   "metadata": {},
   "outputs": [],
   "source": [
    "\n",
    "import requests\n",
    "import urllib.parse\n",
    "import pandas as pd\n",
    "\n",
    "properties = requests.get(\"https://wwwdev.ebi.ac.uk/ols4/api/v2/ontologies/evorao/properties?size=1000\").json()['elements']\n",
    "\n",
    "def get_similar(prop):\n",
    "    encoded_iri = urllib.parse.quote(urllib.parse.quote(prop['iri'], safe=''), safe='')\n",
    "    similar = requests.get(f\"https://wwwdev.ebi.ac.uk/ols4/api/v2/ontologies/evorao/properties/{encoded_iri}/similar?size=30\").json()\n",
    "    return similar\n",
    "\n",
    "for prop in properties:\n",
    "    prop['similar'] = get_similar(prop)\n",
    "\n",
    "rows = []\n",
    "for prop in properties:\n",
    "    for similar in prop['similar']['elements']:\n",
    "        rows.append({\n",
    "            'iri': prop['iri'],\n",
    "            'label': prop['label'][0],\n",
    "            'similar_label': similar['label'][0],\n",
    "            'similar_ontology': similar['ontologyId'],\n",
    "            'score': similar['score'],\n",
    "            'similar_iri': similar['iri']\n",
    "        })\n",
    "\n",
    "\n",
    "df = pd.DataFrame(rows)\n",
    "df = df.sort_values(by=['iri', 'score'], ascending=[True, False])\n",
    "\n",
    "df.to_csv('evorao_similar_properties.csv', index=False)\n",
    "\n",
    "\n",
    "\n"
   ]
  }
 ],
 "metadata": {
  "kernelspec": {
   "display_name": ".venv",
   "language": "python",
   "name": "python3"
  },
  "language_info": {
   "codemirror_mode": {
    "name": "ipython",
    "version": 3
   },
   "file_extension": ".py",
   "mimetype": "text/x-python",
   "name": "python",
   "nbconvert_exporter": "python",
   "pygments_lexer": "ipython3",
   "version": "3.11.12"
  }
 },
 "nbformat": 4,
 "nbformat_minor": 5
}
